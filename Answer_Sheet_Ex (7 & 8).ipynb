{
 "cells": [
  {
   "cell_type": "markdown",
   "id": "f89e3ff4",
   "metadata": {},
   "source": [
    "<div style=\"color: white;padding-top:18px;text-align:center;background-color:#610C9F;border-radius:15px;border: 1px solid white;\"> \n",
    "    <h3>Exercise 7 (score:350)</h3>\n",
    "</div>"
   ]
  },
  {
   "cell_type": "markdown",
   "id": "03e517ee",
   "metadata": {},
   "source": [
    "<div style=\"color: white;padding-top:18px;text-align:left;background-color:#940B92;border-radius:15px;border: 1px solid white;\"> \n",
    "    <h4>Question 01 (Function):</h4>\n",
    "    <p>define two lists that one of them is strings and another is float, change values of \n",
    "both of them to int and create a list that is sum of them. use map function and \n",
    "lambda.\n",
    "</p>\n",
    "</div>"
   ]
  },
  {
   "cell_type": "code",
   "execution_count": 1,
   "id": "840cff75",
   "metadata": {},
   "outputs": [
    {
     "name": "stdout",
     "output_type": "stream",
     "text": [
      "list1: [10, 12, 26], \n",
      "list2:[1, 4, 10, 12], \n",
      "sum of lists : [11, 16, 36]\n"
     ]
    }
   ],
   "source": [
    "# write code here:\n",
    "\n",
    "sum_nums = lambda x,y:x+y\n",
    "\n",
    "list_of_strings = [\"10\",\"12\",\"26\"]\n",
    "list_of_floats = [1.2,4.6,10.1,12.6]\n",
    "\n",
    "list1 = list(map(int,list_of_strings))\n",
    "list2 = list(map(int,list_of_floats))\n",
    "\n",
    "sum_list = list(map(sum_nums,list1,list2))\n",
    "\n",
    "print(f\"list1: {list1}, \\nlist2:{list2}, \\nsum of lists : {sum_list}\")\n"
   ]
  },
  {
   "cell_type": "markdown",
   "id": "7d47bf51",
   "metadata": {},
   "source": [
    "<div style=\"color: white;padding-top:18px;text-align:left;background-color:#940B92;border-radius:15px;border: 1px solid white;\"> \n",
    "    <h4>Question 02 (Function)</h4>\n",
    "<p>\n",
    " Write a Python program where users input two numbers and choose an \n",
    "operation (+, -, *, /, **). Use lambda functions for calculations. If division is \n",
    "chosen and the second number is zero, replace it with one, notify the user, and \n",
    "proceed. The program should handle invalid operations gracefully. This program \n",
    "should be repeated until user write “exit”.\n",
    "\n",
    "</p>\n",
    "\n",
    "</div>"
   ]
  },
  {
   "cell_type": "code",
   "execution_count": 4,
   "id": "36591fce",
   "metadata": {},
   "outputs": [
    {
     "name": "stdin",
     "output_type": "stream",
     "text": [
      "Enter (*,+,-,/,**) or exit : +\n",
      "Enter First Number:  10\n",
      "Enter Second Number:  40\n"
     ]
    },
    {
     "name": "stdout",
     "output_type": "stream",
     "text": [
      "The Result is: 50.0\n"
     ]
    },
    {
     "name": "stdin",
     "output_type": "stream",
     "text": [
      "Enter (*,+,-,/,**) or exit : exit\n"
     ]
    }
   ],
   "source": [
    "# write code here:\n",
    "ops = [\"+\",\"*\",\"-\",\"/\",\"**\",\"exit\"]\n",
    "add = lambda x,y:x+y\n",
    "subractt = lambda x,y:x-y\n",
    "multiply = lambda x,y:x*y\n",
    "division = lambda x,y:x/(y if y !=0 else 1)\n",
    "power =  lambda x,y:x**y\n",
    "\n",
    "while True:\n",
    "    \n",
    "    op = input(\"Enter (*,+,-,/,**) or exit :\")\n",
    "    if op in ops:\n",
    "        if op.lower() == \"exit\":\n",
    "            break\n",
    "        num1 = float(input(\"Enter First Number: \"))\n",
    "        num2 = float(input(\"Enter Second Number: \"))\n",
    "\n",
    "\n",
    "        if op == \"+\":\n",
    "            result = add(num1,num2)\n",
    "        elif op == '-':\n",
    "            result = subtract(num1,num2)\n",
    "        elif op == \"*\":\n",
    "            result = multiply(num1, num2)\n",
    "        elif op == \"/\":\n",
    "            result = division(num1,num2)\n",
    "        elif op == \"**\":\n",
    "            result = power(num1,num2)\n",
    "        print(f\"The Result is: {result}\")\n",
    "    else:\n",
    "        print(\"Invalid Operation!\")"
   ]
  },
  {
   "cell_type": "markdown",
   "id": "cdc87e6d",
   "metadata": {},
   "source": [
    "<div style=\"color: white;padding-top:18px;text-align:left;background-color:#940B92;border-radius:15px;border: 1px solid white;\"> \n",
    "    <h4>Question 03 (Function)</h4>\n",
    "<p>\n",
    " Write question of exercise 6 by function.\n",
    "\n",
    "</p>\n",
    "\n",
    "</div>"
   ]
  },
  {
   "cell_type": "code",
   "execution_count": null,
   "id": "da1b870b",
   "metadata": {},
   "outputs": [],
   "source": [
    "# write code here:"
   ]
  },
  {
   "cell_type": "markdown",
   "id": "7d2e935c",
   "metadata": {},
   "source": [
    "<div style=\"color: white;padding-top:18px;text-align:center;background-color:#610C9F;border-radius:15px;border: 1px solid white;\"> \n",
    "    <h3>Exercise 8 (score:200)</h3>\n",
    "</div>"
   ]
  },
  {
   "cell_type": "markdown",
   "id": "8568a75d",
   "metadata": {},
   "source": [
    "<div style=\"color: white;padding-top:18px;text-align:left;background-color:#940B92;border-radius:15px;border: 1px solid white;\"> \n",
    "    <h4>Question 01 (Dictionary)</h4>\n",
    "<p>\n",
    "Below list is information of a product, change this list to dictionary and \n",
    "answer to questions?\n",
    "<p style= \"margin-left: 30px\"> product = ['Apple iPhone', 999.99, 'Space Gray', 'July 2021']</p>\n",
    "</p>\n",
    "<ol>\n",
    "<li>\n",
    "What is the name of the product?\n",
    "</li>\n",
    "<li>\n",
    "What is the price of the product? \n",
    "</li>\n",
    "<li>\n",
    "What is the color of the product?</li>\n",
    "<li>\n",
    "When was the product released?\n",
    "</li>\n",
    "<li>\n",
    "Can you change the color of the product to 'Silver'?\n",
    "</li>\n",
    "<li>\n",
    "Create a list with 4 products buy this structure.\n",
    "</li>\n",
    "</ol>\n",
    "</div>"
   ]
  },
  {
   "cell_type": "code",
   "execution_count": 5,
   "id": "94fcd040",
   "metadata": {},
   "outputs": [],
   "source": [
    "# 1 - 4\n",
    "product = [\"Apple iPhone\",999.99,\"Space Gray\",\"July 2021\"]\n",
    "\n",
    "product_dict = {\n",
    "    \"name\":product[0],\n",
    "    \"price\":product[1],\n",
    "    \"color\":product[2],\n",
    "    \"release_date\":product[3]\n",
    "}\n",
    "\n",
    "product_name = product_dict[\"name\"]\n",
    "print(f\"name of the product is: {product_name}\")\n",
    "product_price = product_dict[\"price\"]\n",
    "print(f\"price of the product is : {product_price}\")\n",
    "product_color = product_dict[\"color\"]\n",
    "print(f\"color of the product is: {product_color}\")\n",
    "product_release_date = product_dict[\"release_date\"]\n",
    "print(f\"release date of the product is : {product_release_date}\")\n",
    "\n"
   ]
  },
  {
   "cell_type": "code",
   "execution_count": 6,
   "id": "3997a939",
   "metadata": {},
   "outputs": [],
   "source": [
    "#5\n",
    "product_dict[\"color\"] = \"Silver\""
   ]
  },
  {
   "cell_type": "code",
   "execution_count": 7,
   "id": "3a95b50b",
   "metadata": {},
   "outputs": [
    {
     "name": "stdin",
     "output_type": "stream",
     "text": [
      "Enter Product Information (name,price,color,release_date) BMW,100000,Red,2022\n",
      "Enter Product Information (name,price,color,release_date) Volvo,50000,Blue,2023\n",
      "Enter Product Information (name,price,color,release_date) Toyota,60000,black,2019\n",
      "Enter Product Information (name,price,color,release_date) Apple,10000,Orange,2024\n"
     ]
    },
    {
     "name": "stdout",
     "output_type": "stream",
     "text": [
      "[{'name': 'BMW', 'price': 100000, 'color': 'Red', 'release_date': '2022'}, {'name': 'Volvo', 'price': 50000, 'color': 'Blue', 'release_date': '2023'}, {'name': 'Toyota', 'price': 60000, 'color': 'black', 'release_date': '2019'}, {'name': 'Apple', 'price': 10000, 'color': 'Orange', 'release_date': '2024'}]\n"
     ]
    }
   ],
   "source": [
    "#6\n",
    "products = []\n",
    "\n",
    "for i in range(4):\n",
    "    info = input(\"Enter Product Information (name,price,color,release_date)\")\n",
    "    name, price, color, release_date = info.split(\",\")\n",
    "    price = int(price)\n",
    "    \n",
    "    product_dict = {\n",
    "        \"name\":name,\n",
    "        \"price\":price,\n",
    "        \"color\":color,\n",
    "        \"release_date\":release_date\n",
    "    }\n",
    "    products.append(product_dict)\n",
    "print(products)"
   ]
  },
  {
   "cell_type": "markdown",
   "id": "28286b78",
   "metadata": {},
   "source": [
    "<div style=\"color: white;padding-top:18px;text-align:left;background-color:#940B92;border-radius:15px;border: 1px solid white;\"> \n",
    "    <h4>Question 02 (Dictionary)</h4>\n",
    "<p>\n",
    "create a dictionary named `student_grades` containing three students' names \n",
    "as keys and their grades as values. Perform the following:\n",
    "</p>\n",
    "<ul>\n",
    "<li>\n",
    "add two new students with their grades to `student_grades`, names are unique.\n",
    "</li>\n",
    "<li>\n",
    "Delete any students from `student_grades` who have grades below 10. \n",
    "</li>\n",
    "<li>\n",
    "Get a name from the user If the user's name is in the dictionary of students, get \n",
    "a new grade and change the student's grade.</li>\n",
    "<li>\n",
    "Show the average scores of all students.\n",
    "</li>\n",
    "</ul>\n",
    "</div>"
   ]
  },
  {
   "cell_type": "code",
   "execution_count": 8,
   "id": "019c76ef",
   "metadata": {},
   "outputs": [],
   "source": [
    "students = {\n",
    "    \"Ali\":12,\n",
    "    \"Mohammad\":10,\n",
    "    \"Hossein\":15\n",
    "}"
   ]
  },
  {
   "cell_type": "code",
   "execution_count": 9,
   "id": "5c78e39a",
   "metadata": {},
   "outputs": [
    {
     "data": {
      "text/plain": [
       "{'Ali': 12, 'Mohammad': 10, 'Hossein': 15, 'Javad': 14, 'Hassan': 6}"
      ]
     },
     "execution_count": 9,
     "metadata": {},
     "output_type": "execute_result"
    }
   ],
   "source": [
    "students[\"Javad\"] = 14\n",
    "students[\"Hassan\"] = 6\n",
    "students"
   ]
  },
  {
   "cell_type": "code",
   "execution_count": 10,
   "id": "319c3843",
   "metadata": {},
   "outputs": [
    {
     "name": "stdout",
     "output_type": "stream",
     "text": [
      "{'Ali': 12, 'Mohammad': 10, 'Hossein': 15, 'Javad': 14}\n"
     ]
    }
   ],
   "source": [
    "for student in list(students.keys()):\n",
    "    if students[student] < 10:\n",
    "        students.pop(student)\n",
    "print(students)"
   ]
  },
  {
   "cell_type": "code",
   "execution_count": 11,
   "id": "021f7371",
   "metadata": {},
   "outputs": [
    {
     "name": "stdin",
     "output_type": "stream",
     "text": [
      "Enter User Name: Ali\n",
      "Enter New Grade: 20\n"
     ]
    },
    {
     "data": {
      "text/plain": [
       "{'Ali': 20.0, 'Mohammad': 10, 'Hossein': 15, 'Javad': 14}"
      ]
     },
     "execution_count": 11,
     "metadata": {},
     "output_type": "execute_result"
    }
   ],
   "source": [
    "user_name = input(\"Enter User Name:\")\n",
    "\n",
    "if user_name in students:\n",
    "    new_grade = float(input(\"Enter New Grade:\"))\n",
    "    students[user_name] = new_grade\n",
    "    \n",
    "students"
   ]
  },
  {
   "cell_type": "code",
   "execution_count": 13,
   "id": "30bca33b",
   "metadata": {},
   "outputs": [
    {
     "data": {
      "text/plain": [
       "({}, 0)"
      ]
     },
     "execution_count": 13,
     "metadata": {},
     "output_type": "execute_result"
    }
   ],
   "source": [
    "students = {\n",
    "    \n",
    "}\n",
    "average_score = sum(students.values()) / len(students) if students else 0\n",
    "students, average_score"
   ]
  }
 ],
 "metadata": {
  "kernelspec": {
   "display_name": "Python 3 (Spyder)",
   "language": "python3",
   "name": "python3"
  },
  "language_info": {
   "codemirror_mode": {
    "name": "ipython",
    "version": 3
   },
   "file_extension": ".py",
   "mimetype": "text/x-python",
   "name": "python",
   "nbconvert_exporter": "python",
   "pygments_lexer": "ipython3",
   "version": "3.10.13"
  }
 },
 "nbformat": 4,
 "nbformat_minor": 5
}
